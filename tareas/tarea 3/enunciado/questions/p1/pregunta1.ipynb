{
 "cells": [
  {
   "cell_type": "markdown",
   "id": "232f4f28",
   "metadata": {},
   "source": [
    "# Tarea 3\n",
    "En esta tarea usted deberá completar el siguiente notebook, en el cual va a implementar el protocolo de ElGamal y firmas de Schnorr sobre curvas elípticas."
   ]
  },
  {
   "cell_type": "markdown",
   "id": "9d9590d6-9ec6-4f5e-b1d2-b0776446851e",
   "metadata": {},
   "source": [
    "## Funciones auxiliares\n",
    "Primero necesitamos un test de primalidad, para lo cual usamos lo mismo que para la pregunta 1 de la Tarea 2."
   ]
  },
  {
   "cell_type": "code",
   "execution_count": null,
   "id": "87aaa8dd-1e50-4a28-88a2-950b7c4d7227",
   "metadata": {},
   "outputs": [],
   "source": [
    "import random\n",
    "\n",
    "def _is_natural_power(n):\n",
    "    # Para cada posible exponente, hacemos búsqueda binaria de la base\n",
    "    search_exponent = 2\n",
    "    \n",
    "    # Optimiazación: si n no es a ^ k no puede ser a ^ (kr) para ningún\n",
    "    # r, por lo que sólo probamos con exponentes primos\n",
    "    avoid_exponents = set()\n",
    "    \n",
    "    while pow(2, search_exponent) <= n:\n",
    "        \n",
    "        if search_exponent not in avoid_exponents:\n",
    "            # Usamos búsqueda binaria \"creciente\" para definir el intervalo\n",
    "            # inicial\n",
    "            search_start = 2\n",
    "            i = 2\n",
    "            while search_start ** search_exponent < n:\n",
    "                search_start *= 2\n",
    "                avoid_exponents.add(search_exponent * i)\n",
    "                i += 1\n",
    "                \n",
    "            upper = search_start\n",
    "            lower = search_start // 2\n",
    "\n",
    "            # Búsqueda binaria\n",
    "            while lower != upper:\n",
    "                mid = (upper + lower) // 2\n",
    "                result = pow(mid, search_exponent)\n",
    "                if result < n:\n",
    "                    lower = mid + 1\n",
    "                elif result > n:\n",
    "                    upper = mid\n",
    "                else:\n",
    "                    return True\n",
    "\n",
    "            # Caso borde en que upper ^ search_exponent era justo n\n",
    "            if pow(upper, search_exponent) == n:\n",
    "                return True\n",
    "            \n",
    "        search_exponent += 1\n",
    "    \n",
    "    return False"
   ]
  },
  {
   "cell_type": "code",
   "execution_count": null,
   "id": "f8c3290e-0033-460f-8894-3d988a9d7b27",
   "metadata": {},
   "outputs": [],
   "source": [
    "def _extended_euclid(a, b):\n",
    "    if a > b:\n",
    "        return _extended_euclid_base(a, b)\n",
    "    return _extended_euclid_base(b, a)\n",
    "\n",
    "def _extended_euclid_base(a, b):\n",
    "    prev_r, r = a, b\n",
    "    prev_s, s = 1, 0\n",
    "    prev_t, t = 0, 1\n",
    "\n",
    "    while r != 0:\n",
    "        q = prev_r // r\n",
    "        prev_r, r = r, prev_r % r\n",
    "        prev_s, s = s, prev_s - q * s\n",
    "        prev_t, t = t, prev_t - q * t\n",
    "\n",
    "    return prev_r, prev_s, prev_t"
   ]
  },
  {
   "cell_type": "code",
   "execution_count": null,
   "id": "b74ee674-87a8-4c5b-bc14-9a35cce79002",
   "metadata": {},
   "outputs": [],
   "source": [
    "def _is_probably_prime(n, iterations=100):\n",
    "    if n == 2:\n",
    "        return True\n",
    "    if n % 2 == 0 or n == 1:\n",
    "        return False\n",
    "    if _is_natural_power(n):\n",
    "        return False\n",
    "    \n",
    "    found_negative = False\n",
    "    for i in range(iterations):\n",
    "        a = random.randint(1, n - 1)\n",
    "        if _extended_euclid(a, n)[0] > 1:\n",
    "            return False\n",
    "        b = pow(a, (n - 1) // 2, n)\n",
    "        if b == n - 1:\n",
    "            found_negative = True\n",
    "        elif b != 1:\n",
    "            return False\n",
    "    \n",
    "    return found_negative"
   ]
  },
  {
   "cell_type": "markdown",
   "id": "bbc79be1-7ead-44ac-ba59-d07e49062f8b",
   "metadata": {},
   "source": [
    "## Una primera clase y sus elementos\n",
    "Como un ejemplo de la forma en la cual debe ser implementado el un grupo en esta tarea, consideramos a los grupos Z<sub>p</sub><sup>\\*</sup> vistos en clases. En particular, definimos la clase `ZpStar` cuyas instancias son estos grupos. Para representar a los elementos dentro de Z<sub>p</sub><sup>\\*</sup>, en su constructor se crea dinámicamente otra clase."
   ]
  },
  {
   "cell_type": "code",
   "execution_count": null,
   "id": "b09a7361-e303-44b9-9e96-962a03265b83",
   "metadata": {},
   "outputs": [],
   "source": [
    "class ZpStar:\n",
    "    \n",
    "    def __init__(self, p):\n",
    "        if not _is_probably_prime(p):\n",
    "            raise Exception(f\"p={p} is not a prime number\")\n",
    "        class Element:\n",
    "            def __init__(self, value):\n",
    "                if value < 1 or value > p-1:\n",
    "                    raise Exception(f\"value={value} is not in the range 1,...,{p-1}\")\n",
    "                self.value = value\n",
    "\n",
    "            # Allows to compare elements with ==\n",
    "            def __eq__(self, other_element):\n",
    "                return self.value == other_element.value\n",
    "\n",
    "            # Allows to operate elements with *\n",
    "            def __mul__(self, other_element):\n",
    "                return Element((self.value * other_element.value) % p)\n",
    "\n",
    "            # Allows to use ** as exponentiation\n",
    "            def __pow__(self, exponent):\n",
    "                return Element(pow(self.value, exponent, p))\n",
    "\n",
    "            # Allows to use str(e) to transform an element into a string\n",
    "            def __str__(self):\n",
    "                return str(self.value)\n",
    "                \n",
    "        self.element_class = Element\n",
    "                \n",
    "    def get_identity(self):\n",
    "        return self.get_element(1)\n",
    "    \n",
    "    def get_element(self, n):\n",
    "        return self.element_class(n)"
   ]
  },
  {
   "cell_type": "markdown",
   "id": "4e70486b-d2e0-4f68-9ced-bd03a2df8095",
   "metadata": {},
   "source": [
    "Ahora usted debe completar las definiciones de las clases para enviar/recibir mensajes encriptados con ElGamal y generar/verificar firmas de Schnorr."
   ]
  },
  {
   "cell_type": "code",
   "execution_count": null,
   "id": "733778db-6393-4d30-bf23-bf233be3933b",
   "metadata": {},
   "outputs": [],
   "source": [
    "import hashlib\n",
    "\n",
    "class SecretKeyHolder:\n",
    "    def __init__(self, group, generator, subgroup_order):\n",
    "        # Is the order of the generator correct? For this we check that\n",
    "        # 1. The subgroup order is prime; and\n",
    "        # 2. The generator to the power of subgroup_order is 1.\n",
    "        ##### POR COMPLETAR\n",
    "    \n",
    "        # The secret key is simply a scalar\n",
    "        ##### POR COMPLETAR\n",
    "        \n",
    "        # The public key must contain the group, the generator,\n",
    "        # the order of the generator, and the generator to the\n",
    "        # power secret_key\n",
    "        ##### POR COMPLETAR\n",
    "        pass\n",
    "\n",
    "    def get_public_key(self):\n",
    "        ##### POR COMPLETAR\n",
    "        pass\n",
    "    \n",
    "    def decrypt(self, ciphertext):\n",
    "        # Returns decryption of ciphertext\n",
    "        ##### POR COMPLETAR\n",
    "        pass\n",
    "    \n",
    "    def schnorr_signature(self, message):\n",
    "        # Returns a Schnorr's signature of message\n",
    "        ##### POR COMPLETAR\n",
    "        pass"
   ]
  },
  {
   "cell_type": "markdown",
   "id": "49066674",
   "metadata": {},
   "source": [
    "De la misma forma que para la clase `ZpStar`, su implementación del constructor de la clase `SecretKeyHolder` debe generar excepciones si los parámetros entregados no son correctos (puede suponer que los tipos de estos parámetros siempre van a ser los correctos). Por ejemplo, si `subgroup_order` no es un número primo, entonces se debe generar una excepción (puede suponer que el valor entregado en `subgroup_order` va a ser un número natural mayor o igual a 1)."
   ]
  },
  {
   "cell_type": "markdown",
   "id": "f246db13-eee2-41c2-a5a7-554f8a620597",
   "metadata": {},
   "source": [
    "**Importante:** En la generación de firmas de Schnorr se debe calcular el hash de un elemento del grupo concatenado con el mensaje, que también es un elemento del grupo. En esta concatenación estamos suponiendo una forma de transformar los elementos de `ZpStar` a string directa (dada por `str(n)`), pero para otros grupos podría no ser tan directa. Para evitar problemas usaremos lo mismo en cualquier grupo: dados dos elementos `g1` y `g2`, calcule el hash usando `hash.update((str(g1) + str(g2)).encode())`.\n",
    "\n",
    "Además, el algoritmo utilizado para calcular una firma de Schnorr ``(v, s)`` debe ser el visto en clases, pero considerando que tanto ``v`` como ``s`` son calculados en módulo ``subgroup_order`` para reducir el tamaño de las firmas. Al implementar este paso, es importante que piense por qué las firmas de Schnorr son correctas si se utiliza módulo ``subgroup_order``."
   ]
  },
  {
   "cell_type": "code",
   "execution_count": null,
   "id": "4ebef73d-283b-401b-bdcb-f047037284b5",
   "metadata": {},
   "outputs": [],
   "source": [
    "class PublicKeyHolder:\n",
    "    def __init__(self, pubkey):\n",
    "        ##### POR COMPLETAR\n",
    "        pass\n",
    "\n",
    "    def encrypt(self, message):\n",
    "        # Definition of the ephemeral key to be used in the encryption\n",
    "        ##### POR COMPLETAR\n",
    "        \n",
    "        # In ElGamal the ciphertext is a pair of elements\n",
    "        ##### POR COMPLETAR\n",
    "        pass   \n",
    "    \n",
    "    def verify_schnorr_signature(self, message, signature):\n",
    "        # Verify whether signature is a valid Schnorr's signature of message\n",
    "        ##### POR COMPLETAR\n",
    "        pass"
   ]
  },
  {
   "cell_type": "markdown",
   "id": "2074a2be",
   "metadata": {},
   "source": [
    "Recuerde que estas clases están definidas para cualquier grupo, y por lo tanto se espera que su implementación funcione con una interfaz genérica para interactuar con estos objetos. Por ejemplo, en el siguiente código se utiliza el protocolo ElGamal para el grupo Z<sub>643</sub><sup>\\*</sup>."
   ]
  },
  {
   "cell_type": "code",
   "execution_count": null,
   "id": "69ec180e-ec79-4852-b58f-96ca8fd9b2e3",
   "metadata": {
    "scrolled": true
   },
   "outputs": [],
   "source": [
    "if __name__ == \"__main__\":\n",
    "    p, generator_value, order = 643, 4, 107\n",
    "    group = ZpStar(p)\n",
    "    generator = group.get_element(generator_value)\n",
    "\n",
    "    receiver = SecretKeyHolder(group, generator, order)\n",
    "    sender = PublicKeyHolder(receiver.get_public_key())\n",
    "\n",
    "    plaintext = group.get_element(203)\n",
    "    print(f\"Plaintext:      {plaintext}\")\n",
    "    \n",
    "    ciphertext = sender.encrypt(plaintext)\n",
    "    print(f\"Ciphertext:     ({ciphertext[0]}, {ciphertext[1]})\")\n",
    "    \n",
    "    dec = receiver.decrypt(ciphertext)\n",
    "    print(f\"Decrypted text: {dec}\")"
   ]
  },
  {
   "cell_type": "markdown",
   "id": "94d28b67-0be9-4dab-a730-d856a510adc0",
   "metadata": {},
   "source": [
    "Una vez que haya completado las definiciones de las clases para enviar y recibir mensajes con ElGamal, el código anterior debe mostrar algo como lo siguiente:\n",
    "```\n",
    "Plaintext:      203\n",
    "Ciphertext:     (449, 257)\n",
    "Decrypted text: 203\n",
    "```\n",
    "Tanto el primer como el último mensaje deben ser `203`, mientras que el segundo mensaje debe ser un par ordenado que corresponde al cifrado de `203` utilizando la clave pública. \n",
    "\n",
    "Nótese que en este caso `203` es el mensaje a enviar, el cual es definido como un elemento del grupo Z<sub>643</sub><sup>\\*</sup> a través de la línea `plaintext = group.get_element(203)`."
   ]
  },
  {
   "cell_type": "markdown",
   "id": "e79e5631",
   "metadata": {},
   "source": [
    "Como un segundo ejemplo considere un grupo Z<sub>p</sub><sup>\\*</sup> que es usado en la práctica."
   ]
  },
  {
   "cell_type": "code",
   "execution_count": null,
   "id": "3e889644",
   "metadata": {},
   "outputs": [],
   "source": [
    "if __name__ == \"__main__\":\n",
    "    p = 17125458317614137930196041979257577826408832324037508573393292981642667139747621778802438775238728592968344613589379932348475613503476932163166973813218698343816463289144185362912602522540494983090531497232965829536524507269848825658311420299335922295709743267508322525966773950394919257576842038771632742044142471053509850123605883815857162666917775193496157372656195558305727009891276006514000409365877218171388319923896309377791762590614311849642961380224851940460421710449368927252974870395873936387909672274883295377481008150475878590270591798350563488168080923804611822387520198054002990623911454389104774092183\n",
    "    generator = 8041367327046189302693984665026706374844608289874374425728797669509435881459140662650215832833471328470334064628508692231999401840332046192569287351991689963279656892562484773278584208040987631569628520464069532361274047374444344996651832979378318849943741662110395995778429270819222431610927356005913836932462099770076239554042855287138026806960470277326229482818003962004453764400995790974042663675692120758726145869061236443893509136147942414445551848162391468541444355707785697825741856849161233887307017428371823608125699892904960841221593344499088996021883972185241854777608212592397013510086894908468466292313\n",
    "    order = 63762351364972653564641699529205510489263266834182771617563631363277932854227\n",
    "\n",
    "    group = ZpStar(p)\n",
    "    generator = group.get_element(generator)\n",
    "\n",
    "    receiver = SecretKeyHolder(group, generator, order)\n",
    "\n",
    "    sender = PublicKeyHolder(receiver.get_public_key())\n",
    "\n",
    "    message = 989833749383746435764298374556465473646485709287354827346928387431239586091238465\n",
    "\n",
    "    plaintext = group.get_element(message)\n",
    "    print(f\"Plaintext:      {plaintext}\\n\")\n",
    "    \n",
    "    ciphertext = sender.encrypt(plaintext)\n",
    "    print(f\"Ciphertext:     ({ciphertext[0]}, {ciphertext[1]})\\n\")\n",
    "    \n",
    "    dec = receiver.decrypt(ciphertext)\n",
    "    print(f\"Decrypted text: {dec}\")"
   ]
  },
  {
   "cell_type": "markdown",
   "id": "065182fa",
   "metadata": {},
   "source": [
    "Una vez que haya completado las definiciones de las clases para enviar y recibir mensajes con ElGamal, el código anterior debe mostrar algo como lo siguiente:\n",
    "```\n",
    "Plaintext:      989833749383746435764298374556465473646485709287354827346928387431239586091238465\n",
    "\n",
    "Ciphertext:     (12376884202351939903515713464996733144644281513601681814813650412361361208778683022094965067228766934463805643383190553315565394247262895451277187899288623335288739133516616819018361699994629372303953927513852709278368473229775734325410987018918442455262717729670812326044720888835987774805143709888133129436286772774526517354960473646500123257288428082565144986755834648946817089526639493836569724235553121709682730393321341887668400450269730784499268017736826342565277776968083316150294121864253119591642007349033841244564578781028780010400170685432154596024039131415179029541241552290271412615501222047264499223273, 6466456597689351504413352349798923193349043154550983607719992052401774657229783635049631669571499770269158624398195546512526454848710962660417444361415378989148102243475434306795803169529379533622509516043890117736986637976980922255390507455007232195711025170073429545247660618209319059004478689824567122562497582173750836424936778057977406668897430061205273036576316750107476234812452293957840366104827679547340186818966101512720408959562425181915979056950171766638028889178696162078219687184767975883719677585388469260886372538783912550708780834478915196082191110596023658708234500715066304717128037475087245132390)\n",
    "\n",
    "Decrypted text: 989833749383746435764298374556465473646485709287354827346928387431239586091238465\n",
    "```"
   ]
  },
  {
   "cell_type": "markdown",
   "id": "89a35838",
   "metadata": {},
   "source": [
    "En los siguientes ejemplos utilizamos las funciones para construir y verificar firmas de Schnorr. En primer lugar utilizamos el grupo Z<sub>643</sub><sup>\\*</sup>."
   ]
  },
  {
   "cell_type": "code",
   "execution_count": null,
   "id": "84e93d57",
   "metadata": {},
   "outputs": [],
   "source": [
    "if __name__ == \"__main__\":\n",
    "    p, generator_value, order = 643, 4, 107\n",
    "    group = ZpStar(p)\n",
    "    generator = group.get_element(generator_value)\n",
    "\n",
    "    signer = SecretKeyHolder(group, generator, order)\n",
    "    verifier = PublicKeyHolder(signer.get_public_key())\n",
    "\n",
    "    message = group.get_element(413)\n",
    "    signature = signer.schnorr_signature(message)\n",
    "\n",
    "    print(\"Message:      \", str(message))\n",
    "    print(\"Signature:    \", str(signature))\n",
    "    print(\"Verification: \", verifier.verify_schnorr_signature(message, signature))"
   ]
  },
  {
   "cell_type": "markdown",
   "id": "d0dce74c",
   "metadata": {},
   "source": [
    "En segundo lugar consideramos el grupo Z<sub>p</sub><sup>\\*</sup> mencionado anteriormente, y que es utilizado en la práctica."
   ]
  },
  {
   "cell_type": "code",
   "execution_count": null,
   "id": "4e01e052",
   "metadata": {},
   "outputs": [],
   "source": [
    "if __name__ == \"__main__\":\n",
    "    p = 17125458317614137930196041979257577826408832324037508573393292981642667139747621778802438775238728592968344613589379932348475613503476932163166973813218698343816463289144185362912602522540494983090531497232965829536524507269848825658311420299335922295709743267508322525966773950394919257576842038771632742044142471053509850123605883815857162666917775193496157372656195558305727009891276006514000409365877218171388319923896309377791762590614311849642961380224851940460421710449368927252974870395873936387909672274883295377481008150475878590270591798350563488168080923804611822387520198054002990623911454389104774092183\n",
    "    generator_value = 8041367327046189302693984665026706374844608289874374425728797669509435881459140662650215832833471328470334064628508692231999401840332046192569287351991689963279656892562484773278584208040987631569628520464069532361274047374444344996651832979378318849943741662110395995778429270819222431610927356005913836932462099770076239554042855287138026806960470277326229482818003962004453764400995790974042663675692120758726145869061236443893509136147942414445551848162391468541444355707785697825741856849161233887307017428371823608125699892904960841221593344499088996021883972185241854777608212592397013510086894908468466292313\n",
    "    order = 63762351364972653564641699529205510489263266834182771617563631363277932854227\n",
    "    \n",
    "    group = ZpStar(p)\n",
    "    generator = group.get_element(generator_value)\n",
    "\n",
    "    signer = SecretKeyHolder(group, generator, order)\n",
    "    verifier = PublicKeyHolder(signer.get_public_key())\n",
    "\n",
    "    message_1 = group.get_element(98983374938374643576429837455646547364648570928735482734692838743)\n",
    "    signature_1 = signer.schnorr_signature(message_1)\n",
    "    \n",
    "    message_2 = group.get_element(43563885929883747494886799876766827676119919203874473389748384984)\n",
    "    signature_2 = signer.schnorr_signature(message_2)\n",
    "\n",
    "    print(\"\\nMessage:      \", str(message_1))\n",
    "    print(\"Signature:    \", str(signature_1))\n",
    "    print(\"Verification: \", verifier.verify_schnorr_signature(message_1, signature_1))\n",
    "    \n",
    "    print(\"\\nMessage:      \", str(message_2))\n",
    "    print(\"Signature:    \", str(signature_2))\n",
    "    print(\"Verification: \", verifier.verify_schnorr_signature(message_2, signature_2))\n",
    "    \n",
    "    print(\"\\nMessage:      \", str(message_1))\n",
    "    print(\"Signature:    \", str(signature_2))\n",
    "    print(\"Verification: \", verifier.verify_schnorr_signature(message_1, signature_2))\n",
    "    \n",
    "    print(\"\\nMessage:      \", str(message_2))\n",
    "    print(\"Signature:    \", str(signature_1))\n",
    "    print(\"Verification: \", verifier.verify_schnorr_signature(message_2, signature_1))"
   ]
  },
  {
   "cell_type": "markdown",
   "id": "008c46b0-7b08-4ee6-8f66-ba6d21032e15",
   "metadata": {},
   "source": [
    "## Utilizando curvas elípticas\n",
    "En esta segunda parte de la tarea, usted debe utilizar firmas de Schnorr y encriptación de ElGamal tal como antes, pero esta vez sobre grupos definidos por curvas elípticas. En particular, debe completar la siguiente definición de la clase `EllipticCurve` considerando la definición de curvas elípticas dada en la ecuación (9.2) del la sección 9.3.4 del libro:\n",
    "\n",
    "Jonathan Katz y Yehuda Lindell. Introduction to Modern Cryptography. Chapman and Hall/CRC,\n",
    "tercera edición, 2020."
   ]
  },
  {
   "cell_type": "code",
   "execution_count": null,
   "id": "9f8cc175",
   "metadata": {},
   "outputs": [],
   "source": [
    "class EllipticCurve:\n",
    "    def __init__(self, A, B, p):\n",
    "        ##### POR COMPLETAR\n",
    "        pass\n",
    "    \n",
    "        class Element:\n",
    "            def __init__(self, x, y = None):\n",
    "                ##### POR COMPLETAR\n",
    "                pass\n",
    "\n",
    "            def __eq__(self, other_element):\n",
    "                ##### POR COMPLETAR\n",
    "                pass\n",
    "\n",
    "            def __mul__(self, other_element):\n",
    "                ##### POR COMPLETAR\n",
    "                pass\n",
    "                    \n",
    "            def __pow__(self, exponent):\n",
    "                ##### POR COMPLETAR\n",
    "                pass\n",
    "\n",
    "            def __str__(self):\n",
    "                ##### POR COMPLETAR\n",
    "                pass\n",
    "                    \n",
    "        self.element_class = Element\n",
    "                \n",
    "    def get_identity(self):\n",
    "        ##### POR COMPLETAR\n",
    "        pass\n",
    "                    \n",
    "    def get_element(self, x, y):\n",
    "        ##### POR COMPLETAR\n",
    "        pass"
   ]
  },
  {
   "cell_type": "markdown",
   "id": "da14a4e7",
   "metadata": {},
   "source": [
    "En esta definición de `EllipticCurve`, dado un número primo `p`, cada punto sobre la curva es un par ordenado `(x,y)` con `x` e `y` en el conjunto `{0, ..., p-1}`, excepto por el neutro del grupo que un elemento especial que no necesita notación de par ordenado (ver el libro de Katz & Lindell para una explicación de esto). Por esto el constructor de la clase `EllipticCurve` recibe dos argumentos para representar un par ordenado, y también considera el caso en que `y` no esté definido porque se está utilizando el elemento neutro."
   ]
  },
  {
   "cell_type": "markdown",
   "id": "3714219a-d4c3-4d1f-9132-89fcf9a1be2e",
   "metadata": {},
   "source": [
    "**Importante:** Para evitar problemas, dado un elemento `g = (x, y)` del grupo, diremos que su interpretación como string es literalmente `(x, y)` (notar el espacio después de la coma). Es decir, la interpretación será como string se debe calcular con algo como `f\"({self.x}, {self.y})\"`."
   ]
  },
  {
   "cell_type": "markdown",
   "id": "edf91b6e",
   "metadata": {},
   "source": [
    "De la misma forma que para la clase `ZpStar`, su implementación del constructor de la clase `EllipticCurve` debe generar excepciones si los parámetros entregados no son correctos (puede suponer que los tipos de estos parámetros siempre van a ser los correctos). Por ejemplo, si `p` no es un número primo, entonces se debe generar una excepción."
   ]
  },
  {
   "cell_type": "markdown",
   "id": "e311731b",
   "metadata": {},
   "source": [
    "Su definición de la clase `EllipticCurve` va a ser utilizada por la implementación del protocolo ElGamal de la misma forma que para la clase `ZpStar`. Por ejemplo, en el siguiente código se utiliza el protocolo ElGamal para la curva elíptica [P-256](https://neuromancer.sk/std/nist/P-256)."
   ]
  },
  {
   "cell_type": "code",
   "execution_count": null,
   "id": "85c3b7b1",
   "metadata": {},
   "outputs": [],
   "source": [
    "if __name__ == \"__main__\":\n",
    "    p = 115792089210356248762697446949407573530086143415290314195533631308867097853951\n",
    "    A = 115792089210356248762697446949407573530086143415290314195533631308867097853948\n",
    "    B = 41058363725152142129326129780047268409114441015993725554835256314039467401291\n",
    "    g_x = 48439561293906451759052585252797914202762949526041747995844080717082404635286\n",
    "    g_y = 36134250956749795798585127919587881956611106672985015071877198253568414405109\n",
    "    q = 115792089210356248762697446949407573529996955224135760342422259061068512044369\n",
    "\n",
    "    group = EllipticCurve(A, B, p)\n",
    "    g = group.get_element(g_x, g_y)\n",
    "    \n",
    "    receiver = SecretKeyHolder(group, g, q)\n",
    "\n",
    "    sender = PublicKeyHolder(receiver.get_public_key())\n",
    "\n",
    "    message_x = 3649244856384847635638847363849074342342433643773\n",
    "    message_y = 36810392828448194526040058211987909976903679270241111391326603075746535787758\n",
    "    \n",
    "    plaintext = group.get_element(message_x, message_y)\n",
    "    print(f\"Plaintext:       {str(plaintext)}\\n\")\n",
    "    \n",
    "    ciphertext = sender.encrypt(plaintext)\n",
    "    print(f\"Ciphertext:      [{ciphertext[0]}, {ciphertext[1]}]\\n\")\n",
    "\n",
    "    dec = receiver.decrypt(ciphertext)\n",
    "    print(f\"Decrypted text:  {str(dec)}\")"
   ]
  },
  {
   "cell_type": "markdown",
   "id": "579cb614",
   "metadata": {},
   "source": [
    "Dadas las clases implementadas en la primer parte de la tarea, el código anterior debe mostrar algo como lo siguiente:\n",
    "\n",
    "```\n",
    "Plaintext:       (3649244856384847635638847363849074342342433643773, 36810392828448194526040058211987909976903679270241111391326603075746535787758)\n",
    "\n",
    "Ciphertext:      [(113996131010303204014009892935779309769658129295209181632143587339087143687314, 26962689901361466823054095068011324081132818595053733951227392568180562298562), (54755798469491832606228455763246989103441843832178270077860596483712932816750, 80388391817873044711837096504683074525746519031165376005382087646062080905529)]\n",
    "\n",
    "Decrypted text:  (3649244856384847635638847363849074342342433643773, 36810392828448194526040058211987909976903679270241111391326603075746535787758)\n",
    "```\n",
    "Nótese que en este caso\n",
    "\n",
    "```\n",
    "(3649244856384847635638847363849074342342433643773, 36810392828448194526040058211987909976903679270241111391326603075746535787758)\n",
    "```\n",
    "\n",
    "es el mensaje a enviar, el cual es definido como un elemento del grupo a través de la línea `plaintext = group.get_element(message_x, message_y)`"
   ]
  },
  {
   "cell_type": "markdown",
   "id": "79dc4252",
   "metadata": {},
   "source": [
    "Finalmente, utilizamos las funciones para construir y verificar firmas de Schnorr para la curva elíptica considerada anteriormente."
   ]
  },
  {
   "cell_type": "code",
   "execution_count": null,
   "id": "50f7c9e2",
   "metadata": {},
   "outputs": [],
   "source": [
    "if __name__ == \"__main__\":\n",
    "    p = 115792089210356248762697446949407573530086143415290314195533631308867097853951\n",
    "    A = 115792089210356248762697446949407573530086143415290314195533631308867097853948\n",
    "    B = 41058363725152142129326129780047268409114441015993725554835256314039467401291\n",
    "    g_x = 48439561293906451759052585252797914202762949526041747995844080717082404635286\n",
    "    g_y = 36134250956749795798585127919587881956611106672985015071877198253568414405109\n",
    "    q = 115792089210356248762697446949407573529996955224135760342422259061068512044369\n",
    "\n",
    "    group = EllipticCurve(A, B, p)\n",
    "    g = group.get_element(g_x, g_y)\n",
    "\n",
    "    signer = SecretKeyHolder(group, g, q)\n",
    "    pub_key = signer.get_public_key()\n",
    "    verifier = PublicKeyHolder(pub_key)\n",
    "\n",
    "    print(\"\\nThe public key (g**x) is:\")\n",
    "    print(pub_key[3])\n",
    "\n",
    "    message_x_1 = 3649244856384847635638847363849074342342433643773\n",
    "    message_y_1 = 36810392828448194526040058211987909976903679270241111391326603075746535787758\n",
    "    message_1 = group.get_element(message_x_1, message_y_1)\n",
    "    signature_1 = signer.schnorr_signature(message_1)\n",
    "\n",
    "    message_x_2 = 59447290591372491095936616477776244661201105999102239672215969253558897392491\n",
    "    message_y_2 = 113121750122093533018561227344023152845279298590622316429489010324710260843069\n",
    "    message_2 = group.get_element(message_x_2, message_y_2)\n",
    "    signature_2 = signer.schnorr_signature(message_2)\n",
    "    \n",
    "    print(\"\\nMessage:      \", str(message_1))\n",
    "    print(\"Signature:    \", str(signature_1))\n",
    "    print(\"Verification: \", verifier.verify_schnorr_signature(message_1, signature_1))\n",
    "    \n",
    "    print(\"\\nMessage:      \", str(message_2))\n",
    "    print(\"Signature:    \", str(signature_2))\n",
    "    print(\"Verification: \", verifier.verify_schnorr_signature(message_2, signature_2))\n",
    "    \n",
    "    print(\"\\nMessage:      \", str(message_1))\n",
    "    print(\"Signature:    \", str(signature_2))\n",
    "    print(\"Verification: \", verifier.verify_schnorr_signature(message_1, signature_2))\n",
    "    \n",
    "    print(\"\\nMessage:      \", str(message_2))\n",
    "    print(\"Signature:    \", str(signature_1))\n",
    "    print(\"Verification: \", verifier.verify_schnorr_signature(message_2, signature_1))"
   ]
  },
  {
   "cell_type": "markdown",
   "id": "2bfdcd1b-fc24-48a4-af77-710442394dc5",
   "metadata": {},
   "source": [
    "## Verificación\n",
    "Aunque las Firmas de Schnorr son aleatorizadas (es decir, dos firmas del mismo mensaje muy probablemente van a ser distintas), su verificación es obviamente determinista.\n",
    "\n",
    "A continuación se utilizan ciertos valores obtenidos del output de una ejecución del código anterior, el cual incluye mensajes, firmas y verificaciones. Si su clase de curvas elípticas fue programada correctamente, el siguiente código debería correr sin problemas y generar un output posible en el mismo formato que el que se muestra arriba."
   ]
  },
  {
   "cell_type": "code",
   "execution_count": null,
   "id": "bc07b371-f163-4296-842f-2f2573808477",
   "metadata": {
    "scrolled": true
   },
   "outputs": [],
   "source": [
    "if __name__ == \"__main__\":\n",
    "    p = 115792089210356248762697446949407573530086143415290314195533631308867097853951\n",
    "    A = 115792089210356248762697446949407573530086143415290314195533631308867097853948\n",
    "    B = 41058363725152142129326129780047268409114441015993725554835256314039467401291\n",
    "    g_x = 48439561293906451759052585252797914202762949526041747995844080717082404635286\n",
    "    g_y = 36134250956749795798585127919587881956611106672985015071877198253568414405109\n",
    "    q = 115792089210356248762697446949407573529996955224135760342422259061068512044369\n",
    "\n",
    "    group = EllipticCurve(A, B, p)\n",
    "    g = group.get_element(g_x, g_y)\n",
    "    \n",
    "    pubkey_x = 103192619728557224015619336422717788072328875409700539750964537777199132907664\n",
    "    pubkey_y = 93298080101102371782236605662083759019495876114486733420689273227397978704898\n",
    "    pubkey_group_element = group.get_element(pubkey_x, pubkey_y)\n",
    "\n",
    "    pubkey = (group, g, q, pubkey_group_element)\n",
    "    verifier = PublicKeyHolder(pubkey)\n",
    "\n",
    "    print(\"\\nThe public key (g**x) is:\")\n",
    "    print(pubkey[3])\n",
    "\n",
    "    message_x_1 = 3649244856384847635638847363849074342342433643773\n",
    "    message_y_1 = 36810392828448194526040058211987909976903679270241111391326603075746535787758\n",
    "    message_1 = group.get_element(message_x_1, message_y_1)\n",
    "\n",
    "    signature_x_1 = 49880133444030498374826058973351206690403473262559368006905951025443593632411\n",
    "    signature_y_1 = 103065885058305515152187888940408087212139311086906277275899754836127292868590\n",
    "    signature_1 = (signature_x_1, signature_y_1)\n",
    "\n",
    "    message_x_2 = 59447290591372491095936616477776244661201105999102239672215969253558897392491\n",
    "    message_y_2 = 113121750122093533018561227344023152845279298590622316429489010324710260843069\n",
    "    message_2 = group.get_element(message_x_2, message_y_2)\n",
    "\n",
    "    signature_x_2 = 106108015439441123124532815622331817639891188646096647525674670688491309960170\n",
    "    signature_y_2 = 52823047958769667531168620359625033126342114852292082076787832317629658210545\n",
    "    signature_2 = (signature_x_2, signature_y_2)\n",
    "    \n",
    "    print(\"\\nMessage:      \", str(message_1))\n",
    "    print(\"Signature:    \", str(signature_1))\n",
    "    print(\"Verification: \", verifier.verify_schnorr_signature(message_1, signature_1))\n",
    "    assert verifier.verify_schnorr_signature(message_1, signature_1)\n",
    "    \n",
    "    print(\"\\nMessage:      \", str(message_2))\n",
    "    print(\"Signature:    \", str(signature_2))\n",
    "    print(\"Verification: \", verifier.verify_schnorr_signature(message_2, signature_2))\n",
    "    assert verifier.verify_schnorr_signature(message_2, signature_2)\n",
    "    \n",
    "    print(\"\\nMessage:      \", str(message_1))\n",
    "    print(\"Signature:    \", str(signature_2))\n",
    "    print(\"Verification: \", verifier.verify_schnorr_signature(message_1, signature_2))\n",
    "    assert not verifier.verify_schnorr_signature(message_1, signature_2)\n",
    "    \n",
    "    print(\"\\nMessage:      \", str(message_2))\n",
    "    print(\"Signature:    \", str(signature_1))\n",
    "    print(\"Verification: \", verifier.verify_schnorr_signature(message_2, signature_1))\n",
    "    assert not verifier.verify_schnorr_signature(message_2, signature_1)"
   ]
  },
  {
   "cell_type": "markdown",
   "id": "eb6bc1da",
   "metadata": {},
   "source": [
    "¡Buena suerte con la tarea!"
   ]
  }
 ],
 "metadata": {
  "kernelspec": {
   "display_name": "Python 3 (ipykernel)",
   "language": "python",
   "name": "python3"
  },
  "language_info": {
   "codemirror_mode": {
    "name": "ipython",
    "version": 3
   },
   "file_extension": ".py",
   "mimetype": "text/x-python",
   "name": "python",
   "nbconvert_exporter": "python",
   "pygments_lexer": "ipython3",
   "version": "3.9.12"
  }
 },
 "nbformat": 4,
 "nbformat_minor": 5
}
