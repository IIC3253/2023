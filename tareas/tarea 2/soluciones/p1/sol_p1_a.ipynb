{
 "cells": [
  {
   "cell_type": "markdown",
   "id": "040cbff2",
   "metadata": {},
   "source": [
    "# Solución Tarea 2 pregunta 1 (a)"
   ]
  },
  {
   "cell_type": "markdown",
   "id": "9d9590d6-9ec6-4f5e-b1d2-b0776446851e",
   "metadata": {},
   "source": [
    "# Funciones auxiliares\n",
    "Para hacer esta pregunta, es necesario tener implementado un test de primalidad. Y para este test, es necesario tener implementado el algoritmo extendido de euclides."
   ]
  },
  {
   "cell_type": "code",
   "execution_count": 1,
   "id": "87aaa8dd-1e50-4a28-88a2-950b7c4d7227",
   "metadata": {},
   "outputs": [],
   "source": [
    "import random\n",
    "\n",
    "def es_potencia(n):\n",
    "    # Para cada posible exponente, hacemos búsqueda binaria de la base\n",
    "    search_exponent = 2\n",
    "    \n",
    "    # Optimiazación: si n no es a ^ k no puede ser a ^ (kr) para ningún\n",
    "    # r, por lo que sólo probamos con exponentes primos\n",
    "    avoid_exponents = set()\n",
    "    \n",
    "    while pow(2, search_exponent) <= n:\n",
    "        \n",
    "        if search_exponent not in avoid_exponents:\n",
    "            # Usamos búsqueda binaria \"creciente\" para definir el intervalo\n",
    "            # inicial\n",
    "            search_start = 2\n",
    "            i = 2\n",
    "            while search_start ** search_exponent < n:\n",
    "                search_start *= 2\n",
    "                avoid_exponents.add(search_exponent * i)\n",
    "                i += 1\n",
    "                \n",
    "            upper = search_start\n",
    "            lower = search_start // 2\n",
    "\n",
    "            # Búsqueda binaria\n",
    "            while lower != upper:\n",
    "                mid = (upper + lower) // 2\n",
    "                result = pow(mid, search_exponent)\n",
    "                if result < n:\n",
    "                    lower = mid + 1\n",
    "                elif result > n:\n",
    "                    upper = mid\n",
    "                else:\n",
    "                    return True\n",
    "\n",
    "            # Caso borde en que upper ^ search_exponent era justo n\n",
    "            if pow(upper, search_exponent) == n:\n",
    "                return True\n",
    "            \n",
    "        search_exponent += 1\n",
    "    \n",
    "    return False\n",
    "\n",
    "\n",
    "def _extended_euclid(a, b):\n",
    "    if a > b:\n",
    "        return _extended_euclid_base(a, b)\n",
    "    r, s, t = _extended_euclid_base(b, a)\n",
    "    return r, t, s\n",
    "\n",
    "\n",
    "def _extended_euclid_base(a, b):\n",
    "    prev_r, r = a, b\n",
    "    prev_s, s = 1, 0\n",
    "    prev_t, t = 0, 1\n",
    "\n",
    "    while r != 0:\n",
    "        q = prev_r // r\n",
    "        prev_r, r = r, prev_r % r\n",
    "        prev_s, s = s, prev_s - q * s\n",
    "        prev_t, t = t, prev_t - q * t\n",
    "\n",
    "    return prev_r, prev_s, prev_t\n",
    "\n",
    "\n",
    "def _is_probably_prime(n, iterations=100):\n",
    "    if n == 2:\n",
    "        return True\n",
    "    if n % 2 == 0 or n == 1:\n",
    "        return False\n",
    "    if es_potencia(n):\n",
    "        return False\n",
    "    \n",
    "    found_negative = False\n",
    "    for i in range(iterations):\n",
    "        a = random.randint(1, n - 1)\n",
    "        if _extended_euclid(a, n)[0] > 1:\n",
    "            return False\n",
    "        b = pow(a, (n - 1) // 2, n)\n",
    "        if b == n - 1:\n",
    "            found_negative = True\n",
    "        elif b != 1:\n",
    "            return False\n",
    "    \n",
    "    return found_negative"
   ]
  },
  {
   "cell_type": "markdown",
   "id": "8585aafc-6921-4758-a3bb-9da8de973914",
   "metadata": {},
   "source": [
    "Utilizando la función ``_is_probably_prime``, definimos una función que genera números primos con un número de bits dado como parámetro. Nótese que esta función recibe un parámetro ``number`` en el cual se indica cuántos números primos se debe retornar (la función no verifica que estós números sean distintos)."
   ]
  },
  {
   "cell_type": "code",
   "execution_count": 2,
   "id": "17a21830-995f-4f6e-890b-4df28d8f91de",
   "metadata": {},
   "outputs": [],
   "source": [
    "def _generate_primes(bit_number, number = 2):\n",
    "    # Definimos el mayor y menor número con la cantidad de bits requerida\n",
    "    upper = 2 ** bit_number - 1\n",
    "    lower = 2 ** (bit_number - 1)\n",
    "       \n",
    "    primes = []\n",
    "    while len(primes) < number:\n",
    "        r = random.randint(lower, upper)\n",
    "        if _is_probably_prime(r):           \n",
    "            primes.append(r)\n",
    "\n",
    "    return primes"
   ]
  },
  {
   "cell_type": "markdown",
   "id": "4d7954e2",
   "metadata": {},
   "source": [
    "A continuación usted debe implementar la clase ``Receiver`` que representa a quien recibe los mensajes. Esta clase debe permitir generar la clave pública y la clave secreta de un usuario, entregar la clave pública, y decriptar mensajes. Esta clase debe ser implementada suponiendo que si la clave pública es ``N``, entonces los mensajes (textos planos) son números entre ``0`` y ``N-1``.  "
   ]
  },
  {
   "cell_type": "code",
   "execution_count": 3,
   "id": "e906c814-f511-440f-bd3b-f7f5214d1712",
   "metadata": {},
   "outputs": [],
   "source": [
    "class Receiver:\n",
    "    def __init__(self, bit_len):\n",
    "        \"\"\"\n",
    "        Arguments:\n",
    "            bit_len: A lower bound for the number of bits of the public key N\n",
    "        \"\"\"\n",
    "        P, Q = _generate_primes(max(bit_len // 2 + 1, 3))\n",
    "        while P == Q:\n",
    "            P, Q = _generate_primes(max(bit_len // 2 + 1, 3))\n",
    "        self.public_key = P * Q\n",
    "        self.secret_key = (P -1) * (Q - 1)\n",
    "   \n",
    "\n",
    "    def get_public_key(self):\n",
    "        \"\"\"\n",
    "        Returns:\n",
    "          public_key: Public key \n",
    "        \"\"\"\n",
    "        return self.public_key\n",
    "\n",
    "    \n",
    "    def decrypt(self, ciphertext):\n",
    "        \"\"\"\n",
    "        Arguments:\n",
    "          ciphertext: The ciphertext to decrypt\n",
    "        Returns:\n",
    "          message: The original message\n",
    "        \"\"\"\n",
    "        N = self.public_key\n",
    "        phi_N = self.secret_key\n",
    "        B = _extended_euclid(phi_N, N)[1] % N\n",
    "        \n",
    "        return (((pow(ciphertext, phi_N, N ** 2) - 1)//N) * B) % N "
   ]
  },
  {
   "cell_type": "markdown",
   "id": "56888ffd",
   "metadata": {},
   "source": [
    "Y debe implementar una clase ``Sender`` que representa a quien envía los mensajes. Para inicializar un objeto de esta clase se debe entregar como parámetro una clave pública con la que luego se debe poder encriptar mensajes. Nuevamente para implementar esta clase debe suponer que los mensaje son números, en particular los textos cifrados son números entre ``0`` y ``N**2 - 1`` si la clave pública es ``N``."
   ]
  },
  {
   "cell_type": "code",
   "execution_count": 4,
   "id": "b0f2596d-ca54-4e1b-9418-16b2afabcd5f",
   "metadata": {},
   "outputs": [],
   "source": [
    "class Sender:\n",
    "    def __init__(self, public_key):\n",
    "        \"\"\"\n",
    "        Arguments:\n",
    "          public_key: The public key that will be used to encrypt messages\n",
    "        \"\"\"\n",
    "        self.public_key = public_key\n",
    "    \n",
    "    \n",
    "    def encrypt(self, message):\n",
    "        \"\"\"\n",
    "        Arguments:\n",
    "          message: The plaintext message to encrypt\n",
    "        Returns:\n",
    "          ciphertext: The encrypted message\n",
    "        \"\"\"\n",
    "        N = self.public_key\n",
    "        r = random.randint(1, N-1)\n",
    "        while _extended_euclid(r, N)[0] > 1:\n",
    "            r = random.randint(1, N-1)\n",
    "            \n",
    "        return (pow(N + 1, message, N ** 2) * pow(r, N, N ** 2)) % (N ** 2)"
   ]
  },
  {
   "cell_type": "markdown",
   "id": "0aab7977-639e-41c6-8ee5-13acadc9a628",
   "metadata": {},
   "source": [
    "Para probar que todo funciona bien, primero creamos un receiver con una clave pública de al menos 1024 bits, y verificamos que el largo sea el correcto."
   ]
  },
  {
   "cell_type": "code",
   "execution_count": 5,
   "id": "5e803d84-0ba0-42ea-9f44-5571c6faec9b",
   "metadata": {},
   "outputs": [
    {
     "name": "stdout",
     "output_type": "stream",
     "text": [
      "Clave pública: 271970571477896163527527922511805572577459107988707072895101066910053271104834813836192933743885833436654835733707204988930458026665696146921273496644315417496438826524446757018312006316114198450013322320734850275036797921408462858910812586997612005672781344245269637602239078870960093387836349979616737129257\n",
      "Largo de la clave pública: 1025\n"
     ]
    }
   ],
   "source": [
    "receiver = Receiver(1024)\n",
    "print(f\"Clave pública: {receiver.get_public_key()}\")\n",
    "print(f\"Largo de la clave pública: {len(bin(receiver.get_public_key()))-2}\")"
   ]
  },
  {
   "cell_type": "markdown",
   "id": "52e1c458",
   "metadata": {},
   "source": [
    "En segundo lugar, creamos un sender con la clave pública del receiver. "
   ]
  },
  {
   "cell_type": "code",
   "execution_count": 6,
   "id": "e0518d54",
   "metadata": {},
   "outputs": [],
   "source": [
    "sender = Sender(receiver.get_public_key())"
   ]
  },
  {
   "cell_type": "markdown",
   "id": "a74067f3-f21f-4b32-8131-4ac53b223ba3",
   "metadata": {},
   "source": [
    "En tercer lugar, definimos un mensaje para encriptar y decriptar. "
   ]
  },
  {
   "cell_type": "code",
   "execution_count": 7,
   "id": "953beacb-d6f9-4d31-8e9e-ba28c9eb6db7",
   "metadata": {},
   "outputs": [
    {
     "name": "stdout",
     "output_type": "stream",
     "text": [
      "1234567890\n"
     ]
    }
   ],
   "source": [
    "message = 1234567890\n",
    "print(message)"
   ]
  },
  {
   "cell_type": "markdown",
   "id": "45c79b09-0c30-4624-9c4c-6ebce2ec60c8",
   "metadata": {},
   "source": [
    "Nótese que estamos seguros que ``message`` es un número entre ``0`` y ``N - 1`` ya que ``N`` es un número con al menos 1024 bits.\n",
    "\n",
    "En cuarto lugar, encriptamos el mensaje tres veces con el objetivo de mostrar que la encriptación aleatorizada de este esquema criptográfico genera cifrados distintos (con una probabilidad muy alta). "
   ]
  },
  {
   "cell_type": "code",
   "execution_count": 8,
   "id": "e313635d-fc7a-4ea9-8733-71424daf7d18",
   "metadata": {},
   "outputs": [
    {
     "name": "stdout",
     "output_type": "stream",
     "text": [
      "Primer cifrado del mensaje: 57945856874569973031589175378187778004505012755906314637632565633312961981197278223548608926756963394037591702853747997743191686292278413765311589019007580829328028984411987176509161861233845756707715161581290362674499699189402961721559929450823984002544826096314709871087611932643939780022801141140151365984485429665138208489470642005649963337501256467660893156962264806959461638205849086915850520350129924314961298678727843576634830683604168108542817858274801424121987984478805207692911826646483127404774945117310733666515323341156516493903951667209348582766139891807473530049967537428823174306994583150569596385523\n",
      "Segundo cifrado del mensaje: 49604155006816919019768516346700848805701324275423577302024220698785266535857154038292392295335075290256756056772282828222253226450387299861953092956272012492452025772394870271756843285514195714390272375353914085385133904038890251504525625237432573340531929551792184133245928043920614212270151396460468841169664956226368241823206574324418669228376686187550868295567276722630005152598184136861955413459762220999156777326216078640575415289304988881900771450162072175118799741142407900546850494751907709580555356060003130025873935805565507490151253010924889242333421247745693652003585925269476529439634395327059283249888\n",
      "Tercer cifrado del mensaje: 38128060737834529658364745453033836677601748676943804068762219919276532858232143948424505573971923645524763658523291924013621924770064709279396032440965690892130580639902089183740523484712849505603321921005340844008751451593750714945614623158790065407231361333614369652289376179088612889275380232137749816078473871367239854692313642006058327686252418959594094730243619150946110659600997985787930138844016336283341323596028292767056100319681885069156337625343497323625814026141699224518263965333608721644625300021696537202650824246641871449287095246475688577348595328018543169885777107155356237794395629000532934314061\n"
     ]
    }
   ],
   "source": [
    "cipher_1 = sender.encrypt(message)\n",
    "cipher_2 = sender.encrypt(message)\n",
    "cipher_3 = sender.encrypt(message)\n",
    "print(f\"Primer cifrado del mensaje: {cipher_1}\")\n",
    "print(f\"Segundo cifrado del mensaje: {cipher_2}\")\n",
    "print(f\"Tercer cifrado del mensaje: {cipher_3}\")"
   ]
  },
  {
   "cell_type": "markdown",
   "id": "1aa12f26-a2c6-4c64-8b82-9a138094d84b",
   "metadata": {},
   "source": [
    "Finalmente, decriptamos los tres cifrados esperando obtener el mensaje original ``1234567890``. "
   ]
  },
  {
   "cell_type": "code",
   "execution_count": 9,
   "id": "748e6469-3070-4cef-b61e-ecce735d02d2",
   "metadata": {},
   "outputs": [
    {
     "name": "stdout",
     "output_type": "stream",
     "text": [
      "Primer texto decriptado: 1234567890\n",
      "Segundo texto decriptado: 1234567890\n",
      "Tercer texto decriptado: 1234567890\n"
     ]
    }
   ],
   "source": [
    "plaintext_1 = receiver.decrypt(cipher_1)\n",
    "plaintext_2 = receiver.decrypt(cipher_2)\n",
    "plaintext_3 = receiver.decrypt(cipher_3)\n",
    "print(f\"Primer texto decriptado: {plaintext_1}\")\n",
    "print(f\"Segundo texto decriptado: {plaintext_2}\")\n",
    "print(f\"Tercer texto decriptado: {plaintext_3}\")"
   ]
  },
  {
   "cell_type": "markdown",
   "id": "c4cf344c-6a25-445d-a2ff-51bde8f8437c",
   "metadata": {},
   "source": [
    "Si hasta aquí funcionó todo bien, seguramente va a tener todo el puntaje en esta pregunta de la tarea :-)"
   ]
  }
 ],
 "metadata": {
  "kernelspec": {
   "display_name": "Python 3 (ipykernel)",
   "language": "python",
   "name": "python3"
  },
  "language_info": {
   "codemirror_mode": {
    "name": "ipython",
    "version": 3
   },
   "file_extension": ".py",
   "mimetype": "text/x-python",
   "name": "python",
   "nbconvert_exporter": "python",
   "pygments_lexer": "ipython3",
   "version": "3.9.12"
  }
 },
 "nbformat": 4,
 "nbformat_minor": 5
}
