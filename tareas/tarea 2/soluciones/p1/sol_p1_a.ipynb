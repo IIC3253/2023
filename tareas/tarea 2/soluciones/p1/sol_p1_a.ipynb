{
 "cells": [
  {
   "cell_type": "markdown",
   "id": "040cbff2",
   "metadata": {},
   "source": [
    "# Solución Tarea 2 pregunta 2 (a)"
   ]
  },
  {
   "cell_type": "markdown",
   "id": "9d9590d6-9ec6-4f5e-b1d2-b0776446851e",
   "metadata": {},
   "source": [
    "# Funciones auxiliares\n",
    "Para hacer esta pregunta, es necesario tener implementado un test de primalidad. Y para este test, es necesario tener implementado el algoritmo extendido de euclides."
   ]
  },
  {
   "cell_type": "code",
   "execution_count": 1,
   "id": "87aaa8dd-1e50-4a28-88a2-950b7c4d7227",
   "metadata": {},
   "outputs": [],
   "source": [
    "import random\n",
    "\n",
    "def es_potencia(n):\n",
    "    # Para cada posible exponente, hacemos búsqueda binaria de la base\n",
    "    search_exponent = 2\n",
    "    \n",
    "    # Optimiazación: si n no es a ^ k no puede ser a ^ (kr) para ningún\n",
    "    # r, por lo que sólo probamos con exponentes primos\n",
    "    avoid_exponents = set()\n",
    "    \n",
    "    while pow(2, search_exponent) <= n:\n",
    "        \n",
    "        if search_exponent not in avoid_exponents:\n",
    "            # Usamos búsqueda binaria \"creciente\" para definir el intervalo\n",
    "            # inicial\n",
    "            search_start = 2\n",
    "            i = 2\n",
    "            while search_start ** search_exponent < n:\n",
    "                search_start *= 2\n",
    "                avoid_exponents.add(search_exponent * i)\n",
    "                i += 1\n",
    "                \n",
    "            upper = search_start\n",
    "            lower = search_start // 2\n",
    "\n",
    "            # Búsqueda binaria\n",
    "            while lower != upper:\n",
    "                mid = (upper + lower) // 2\n",
    "                result = pow(mid, search_exponent)\n",
    "                if result < n:\n",
    "                    lower = mid + 1\n",
    "                elif result > n:\n",
    "                    upper = mid\n",
    "                else:\n",
    "                    return True\n",
    "\n",
    "            # Caso borde en que upper ^ search_exponent era justo n\n",
    "            if pow(upper, search_exponent) == n:\n",
    "                return True\n",
    "            \n",
    "        search_exponent += 1\n",
    "    \n",
    "    return False\n",
    "\n",
    "\n",
    "def _extended_euclid(a, b):\n",
    "    if a > b:\n",
    "        return _extended_euclid_base(a, b)\n",
    "    r, s, t = _extended_euclid_base(b, a)\n",
    "    return r, t, s\n",
    "\n",
    "\n",
    "def _extended_euclid_base(a, b):\n",
    "    prev_r, r = a, b\n",
    "    prev_s, s = 1, 0\n",
    "    prev_t, t = 0, 1\n",
    "\n",
    "    while r != 0:\n",
    "        q = prev_r // r\n",
    "        prev_r, r = r, prev_r % r\n",
    "        prev_s, s = s, prev_s - q * s\n",
    "        prev_t, t = t, prev_t - q * t\n",
    "\n",
    "    return prev_r, prev_s, prev_t\n",
    "\n",
    "\n",
    "def _is_probably_prime(n, iterations=100):\n",
    "    if n == 2:\n",
    "        return True\n",
    "    if n % 2 == 0 or n == 1:\n",
    "        return False\n",
    "    if es_potencia(n):\n",
    "        return False\n",
    "    \n",
    "    found_negative = False\n",
    "    for i in range(iterations):\n",
    "        a = random.randint(1, n - 1)\n",
    "        if _extended_euclid(a, n)[0] > 1:\n",
    "            return False\n",
    "        b = pow(a, (n - 1) // 2, n)\n",
    "        if b == n - 1:\n",
    "            found_negative = True\n",
    "        elif b != 1:\n",
    "            return False\n",
    "    \n",
    "    return found_negative"
   ]
  },
  {
   "cell_type": "markdown",
   "id": "8585aafc-6921-4758-a3bb-9da8de973914",
   "metadata": {},
   "source": [
    "Utilizando la función ``_is_probably_prime``, definimos una función que genera números primos con un número de bits dado como parámetro. Nótese que esta función recibe un parámetro ``number`` en el cual se indica cuántos números primos se debe retornar (la función no verifica que estós números sean distintos)."
   ]
  },
  {
   "cell_type": "code",
   "execution_count": 2,
   "id": "17a21830-995f-4f6e-890b-4df28d8f91de",
   "metadata": {},
   "outputs": [],
   "source": [
    "def _generate_primes(bit_number, number = 2):\n",
    "    # Definimos el mayor y menor número con la cantidad de bits requerida\n",
    "    upper = 2 ** bit_number - 1\n",
    "    lower = 2 ** (bit_number - 1)\n",
    "       \n",
    "    primes = []\n",
    "    while len(primes) < number:\n",
    "        r = random.randint(lower, upper)\n",
    "        if _is_probably_prime(r):           \n",
    "            primes.append(r)\n",
    "\n",
    "    return primes"
   ]
  },
  {
   "cell_type": "markdown",
   "id": "4d7954e2",
   "metadata": {},
   "source": [
    "A continuación usted debe implementar la clase ``Receiver`` que representa a quien recibe los mensajes. Esta clase debe permitir generar la clave pública y la clave secreta de un usuario, entregar la clave pública, y decriptar mensajes. Esta clase debe ser implementada suponiendo que si la clave pública es ``N``, entonces los mensajes (textos planos) son números entre ``0`` y ``N-1``.  "
   ]
  },
  {
   "cell_type": "code",
   "execution_count": 3,
   "id": "e906c814-f511-440f-bd3b-f7f5214d1712",
   "metadata": {},
   "outputs": [],
   "source": [
    "class Receiver:\n",
    "    def __init__(self, bit_len):\n",
    "        \"\"\"\n",
    "        Arguments:\n",
    "            bit_len: A lower bound for the number of bits of the public key N\n",
    "        \"\"\"\n",
    "        P, Q = _generate_primes(max(bit_len // 2 + 1, 3))\n",
    "        while P == Q:\n",
    "            P, Q = _generate_primes(max(bit_len // 2 + 1, 3))\n",
    "        self.public_key = P * Q\n",
    "        self.secret_key = (P -1) * (Q - 1)\n",
    "   \n",
    "\n",
    "    def get_public_key(self):\n",
    "        \"\"\"\n",
    "        Returns:\n",
    "          public_key: Public key \n",
    "        \"\"\"\n",
    "        return self.public_key\n",
    "\n",
    "    \n",
    "    def decrypt(self, ciphertext):\n",
    "        \"\"\"\n",
    "        Arguments:\n",
    "          ciphertext: The ciphertext to decrypt\n",
    "        Returns:\n",
    "          message: The original message\n",
    "        \"\"\"\n",
    "        N = self.public_key\n",
    "        phi_N = self.secret_key\n",
    "        B = _extended_euclid(phi_N, N)[1] % N\n",
    "        \n",
    "        return (((pow(ciphertext, phi_N, N ** 2) - 1)//N) * B) % N "
   ]
  },
  {
   "cell_type": "markdown",
   "id": "56888ffd",
   "metadata": {},
   "source": [
    "Y debe implementar una clase ``Sender`` que representa a quien envía los mensajes. Para inicializar un objeto de esta clase se debe entregar como parámetro una clave pública con la que luego se debe poder encriptar mensajes. Nuevamente para implementar esta clase debe suponer que los mensaje son números, en particular los textos cifrados son números entre ``0`` y ``N**2 - 1`` si la clave pública es ``N``."
   ]
  },
  {
   "cell_type": "code",
   "execution_count": 4,
   "id": "b0f2596d-ca54-4e1b-9418-16b2afabcd5f",
   "metadata": {},
   "outputs": [],
   "source": [
    "class Sender:\n",
    "    def __init__(self, public_key):\n",
    "        \"\"\"\n",
    "        Arguments:\n",
    "          public_key: The public key that will be used to encrypt messages\n",
    "        \"\"\"\n",
    "        self.public_key = public_key\n",
    "    \n",
    "    \n",
    "    def encrypt(self, message):\n",
    "        \"\"\"\n",
    "        Arguments:\n",
    "          message: The plaintext message to encrypt\n",
    "        Returns:\n",
    "          ciphertext: The encrypted message\n",
    "        \"\"\"\n",
    "        N = self.public_key\n",
    "        r = random.randint(1, N-1)\n",
    "        while _extended_euclid(r, N)[0] > 1:\n",
    "            r = random.randint(1, N-1)\n",
    "            \n",
    "        return (pow(N + 1, message, N ** 2) * pow(r, N, N ** 2)) % (N ** 2)"
   ]
  },
  {
   "cell_type": "markdown",
   "id": "0aab7977-639e-41c6-8ee5-13acadc9a628",
   "metadata": {},
   "source": [
    "Para probar que todo funciona bien, primero creamos un receiver con una clave pública de al menos 1024 bits, y verificamos que el largo sea el correcto."
   ]
  },
  {
   "cell_type": "code",
   "execution_count": 5,
   "id": "5e803d84-0ba0-42ea-9f44-5571c6faec9b",
   "metadata": {},
   "outputs": [
    {
     "name": "stdout",
     "output_type": "stream",
     "text": [
      "Clave pública: 236062942809293663867175326091824652508968288208968813869160714867150658246405487677626065436277008640882321818220052929248861490940269735470417938668883182245989484430525036567370296840415915514314709903941107052382797839838715060119396950155530703302404845414344177351253065044433947299880861388432322473651\n",
      "Largo de la clave pública: 1025\n"
     ]
    }
   ],
   "source": [
    "receiver = Receiver(1024)\n",
    "print(f\"Clave pública: {receiver.get_public_key()}\")\n",
    "print(f\"Largo de la clave pública: {len(bin(receiver.get_public_key()))-2}\")"
   ]
  },
  {
   "cell_type": "markdown",
   "id": "52e1c458",
   "metadata": {},
   "source": [
    "En segundo lugar, creamos un sender con la clave pública del receiver. "
   ]
  },
  {
   "cell_type": "code",
   "execution_count": 6,
   "id": "e0518d54",
   "metadata": {},
   "outputs": [],
   "source": [
    "sender = Sender(receiver.get_public_key())"
   ]
  },
  {
   "cell_type": "markdown",
   "id": "a74067f3-f21f-4b32-8131-4ac53b223ba3",
   "metadata": {},
   "source": [
    "En tercer lugar, definimos un mensaje para encriptar y decriptar. "
   ]
  },
  {
   "cell_type": "code",
   "execution_count": 7,
   "id": "953beacb-d6f9-4d31-8e9e-ba28c9eb6db7",
   "metadata": {},
   "outputs": [
    {
     "name": "stdout",
     "output_type": "stream",
     "text": [
      "1234567890\n"
     ]
    }
   ],
   "source": [
    "message = 1234567890\n",
    "print(message)"
   ]
  },
  {
   "cell_type": "markdown",
   "id": "45c79b09-0c30-4624-9c4c-6ebce2ec60c8",
   "metadata": {},
   "source": [
    "Nótese que estamos seguros que ``message`` es un número entre ``0`` y ``N - 1`` ya que ``N`` es un número con al menos 1024 bits.\n",
    "\n",
    "En cuarto lugar, encriptamos el mensaje tres veces con el objetivo de mostrar que la encriptación aleatorizada de este esquema criptográfico genera cifrados distintos (con una probabilidad muy alta). "
   ]
  },
  {
   "cell_type": "code",
   "execution_count": 8,
   "id": "e313635d-fc7a-4ea9-8733-71424daf7d18",
   "metadata": {},
   "outputs": [
    {
     "name": "stdout",
     "output_type": "stream",
     "text": [
      "Primer cifrado del mensaje: 54077200596733883149568731624073761185730671342437841222674869041410529333640817624699482813006608397161833542266174835833490831855741710531411123612665971468000044923281250304396977246223083992680942460324056082368411851041453611817726034864792000273759096372113986788026099202932247366349950937660825882549859274982332327043007288042180746219854905410235774720224280113510065817135781781046886684528984303132766458520114318311708485794291774572251156982924086368271151713670980074395213176106352001396477188114638555505394626599150985917344033062134563893048884957981123535062348585249424181634962967516289960003730\n",
      "Segundo cifrado del mensaje: 5882054514377826415299737361193559575020809610567549084231839330837290902017139817663681674854667920667736870852636115900721719852085945373007099574003125179374462118859909621633482657410381733238256934480556785481964302167712100534710060925615093961059422079396484500354582032635063755861514248125436298078517818363246595465015625359810460800308361964291108678556717012714826351770836201773662475087546869478992887970504905548378181132074493967270998583708792106384945321525114519799975021583203114692610405989025038022634595501663729029584830487292754486021044930632657662780463640803003710415634094576978555046881\n",
      "Tercer cifrado del mensaje: 23133070293800308834545717659396891168929668241250692692018360515970846603753746188089161607959084338844550968672736274527378073175010359029342114097572387620133217564731931771299529104899153451166173545525957554638762917050629748100301605683128601570145685084304364600540993268011620890367786901724481545743355058610517021888327352398086353684007950648830423791998356312023407925796590362459986177403377960756121546705088999031561110563185703597053242675723917082462195694955574030969357590451462658530421539170760369620857450064707493256048186541070458571014836543646990332584567992411478535667706111437430748560909\n"
     ]
    }
   ],
   "source": [
    "cipher_1 = sender.encrypt(message)\n",
    "cipher_2 = sender.encrypt(message)\n",
    "cipher_3 = sender.encrypt(message)\n",
    "print(f\"Primer cifrado del mensaje: {cipher_1}\")\n",
    "print(f\"Segundo cifrado del mensaje: {cipher_2}\")\n",
    "print(f\"Tercer cifrado del mensaje: {cipher_3}\")"
   ]
  },
  {
   "cell_type": "markdown",
   "id": "1aa12f26-a2c6-4c64-8b82-9a138094d84b",
   "metadata": {},
   "source": [
    "Finalmente, decriptamos los tres cifrados esperando obtener el mensaje original ``1234567890``. "
   ]
  },
  {
   "cell_type": "code",
   "execution_count": 9,
   "id": "748e6469-3070-4cef-b61e-ecce735d02d2",
   "metadata": {},
   "outputs": [
    {
     "name": "stdout",
     "output_type": "stream",
     "text": [
      "Primer texto decriptado: 1234567890\n",
      "Segundo texto decriptado: 1234567890\n",
      "Tercer texto decriptado: 1234567890\n"
     ]
    }
   ],
   "source": [
    "plaintext_1 = receiver.decrypt(cipher_1)\n",
    "plaintext_2 = receiver.decrypt(cipher_2)\n",
    "plaintext_3 = receiver.decrypt(cipher_3)\n",
    "print(f\"Primer texto decriptado: {plaintext_1}\")\n",
    "print(f\"Segundo texto decriptado: {plaintext_2}\")\n",
    "print(f\"Tercer texto decriptado: {plaintext_3}\")"
   ]
  },
  {
   "cell_type": "markdown",
   "id": "c4cf344c-6a25-445d-a2ff-51bde8f8437c",
   "metadata": {},
   "source": [
    "Si hasta aquí funcionó todo bien, seguramente va a tener todo el puntaje en esta pregunta de la tarea :-)"
   ]
  }
 ],
 "metadata": {
  "kernelspec": {
   "display_name": "Python 3 (ipykernel)",
   "language": "python",
   "name": "python3"
  },
  "language_info": {
   "codemirror_mode": {
    "name": "ipython",
    "version": 3
   },
   "file_extension": ".py",
   "mimetype": "text/x-python",
   "name": "python",
   "nbconvert_exporter": "python",
   "pygments_lexer": "ipython3",
   "version": "3.9.12"
  }
 },
 "nbformat": 4,
 "nbformat_minor": 5
}
